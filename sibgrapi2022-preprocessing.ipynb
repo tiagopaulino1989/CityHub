{
 "cells": [
  {
   "cell_type": "code",
   "execution_count": 1,
   "id": "03142969-64cd-47c4-8ad0-aa2fa5d35c82",
   "metadata": {},
   "outputs": [],
   "source": [
    "import os\n",
    "import CityGraph\n",
    "import folium\n",
    "import geopandas as gpd\n",
    "import pandas as pd"
   ]
  },
  {
   "cell_type": "code",
   "execution_count": 2,
   "id": "cd90244e-817c-47d2-bb42-4b6d9bc2d694",
   "metadata": {},
   "outputs": [
    {
     "name": "stdout",
     "output_type": "stream",
     "text": [
      "Loading file...\n",
      "Preprocessing city mesh...\n",
      "Refining mesh...\n",
      "Building tree...\n"
     ]
    }
   ],
   "source": [
    "cg = CityGraph.CityGraph('data/sp_network.gpickle',40.0)"
   ]
  },
  {
   "cell_type": "code",
   "execution_count": 3,
   "id": "10877975-db75-4499-a482-db9b5080605e",
   "metadata": {},
   "outputs": [
    {
     "name": "stdout",
     "output_type": "stream",
     "text": [
      "Refining mesh...\n"
     ]
    },
    {
     "data": {
      "text/plain": [
       "True"
      ]
     },
     "execution_count": 3,
     "metadata": {},
     "output_type": "execute_result"
    }
   ],
   "source": [
    "cg.load_polygon_mesh('data/malha-sp-setores-2010.kml','Name',40.0)"
   ]
  },
  {
   "cell_type": "code",
   "execution_count": 4,
   "id": "fb43fb8e-461c-48ac-abb5-cd4d58273fcc",
   "metadata": {
    "tags": []
   },
   "outputs": [
    {
     "data": {
      "text/plain": [
       "True"
      ]
     },
     "execution_count": 4,
     "metadata": {},
     "output_type": "execute_result"
    }
   ],
   "source": [
    "cg.load_polygon_csv_data('data/sectorsindices.csv','Cod_setor')"
   ]
  },
  {
   "cell_type": "code",
   "execution_count": 5,
   "id": "12d5211b-2893-46d7-aa74-72c4309ef899",
   "metadata": {},
   "outputs": [
    {
     "data": {
      "text/plain": [
       "True"
      ]
     },
     "execution_count": 5,
     "metadata": {},
     "output_type": "execute_result"
    }
   ],
   "source": [
    "cg.load_crimes_layer('data/crimes_ssp.csv','LATITUDE','LONGITUDE')"
   ]
  },
  {
   "cell_type": "code",
   "execution_count": 6,
   "id": "1bb638f0",
   "metadata": {},
   "outputs": [
    {
     "name": "stderr",
     "output_type": "stream",
     "text": [
      "/var/folders/n6/5pm6t1f133z900vqfnq_xtjc0000gn/T/ipykernel_89167/650629977.py:1: UserWarning: Parsing '31-12-2020' in DD/MM/YYYY format. Provide format or specify infer_datetime_format=True for consistent parsing.\n",
      "  cg.compute_layer_crimes(initial_date = pd.to_datetime('01-01-2020'), final_date = pd.to_datetime('31-12-2020'))\n"
     ]
    },
    {
     "data": {
      "text/plain": [
       "True"
      ]
     },
     "execution_count": 6,
     "metadata": {},
     "output_type": "execute_result"
    }
   ],
   "source": [
    "cg.compute_layer_crimes(initial_date = pd.to_datetime('01-01-2020'), final_date = pd.to_datetime('31-12-2020'))"
   ]
  },
  {
   "cell_type": "code",
   "execution_count": 7,
   "id": "caa6813f-b7bb-4a65-bcda-46a84ec8b085",
   "metadata": {},
   "outputs": [
    {
     "data": {
      "text/html": [
       "<div>\n",
       "<style scoped>\n",
       "    .dataframe tbody tr th:only-of-type {\n",
       "        vertical-align: middle;\n",
       "    }\n",
       "\n",
       "    .dataframe tbody tr th {\n",
       "        vertical-align: top;\n",
       "    }\n",
       "\n",
       "    .dataframe thead th {\n",
       "        text-align: right;\n",
       "    }\n",
       "</style>\n",
       "<table border=\"1\" class=\"dataframe\">\n",
       "  <thead>\n",
       "    <tr style=\"text-align: right;\">\n",
       "      <th></th>\n",
       "      <th>crime_mobile</th>\n",
       "      <th>crime_vehicle</th>\n",
       "      <th>crime_all</th>\n",
       "    </tr>\n",
       "  </thead>\n",
       "  <tbody>\n",
       "    <tr>\n",
       "      <th>0</th>\n",
       "      <td>3.0</td>\n",
       "      <td>1.0</td>\n",
       "      <td>4.0</td>\n",
       "    </tr>\n",
       "    <tr>\n",
       "      <th>1</th>\n",
       "      <td>4.0</td>\n",
       "      <td>0.0</td>\n",
       "      <td>4.0</td>\n",
       "    </tr>\n",
       "    <tr>\n",
       "      <th>2</th>\n",
       "      <td>0.0</td>\n",
       "      <td>0.0</td>\n",
       "      <td>0.0</td>\n",
       "    </tr>\n",
       "    <tr>\n",
       "      <th>3</th>\n",
       "      <td>1.0</td>\n",
       "      <td>0.0</td>\n",
       "      <td>1.0</td>\n",
       "    </tr>\n",
       "    <tr>\n",
       "      <th>4</th>\n",
       "      <td>2.0</td>\n",
       "      <td>0.0</td>\n",
       "      <td>2.0</td>\n",
       "    </tr>\n",
       "    <tr>\n",
       "      <th>...</th>\n",
       "      <td>...</td>\n",
       "      <td>...</td>\n",
       "      <td>...</td>\n",
       "    </tr>\n",
       "    <tr>\n",
       "      <th>119743</th>\n",
       "      <td>0.0</td>\n",
       "      <td>0.0</td>\n",
       "      <td>0.0</td>\n",
       "    </tr>\n",
       "    <tr>\n",
       "      <th>119744</th>\n",
       "      <td>0.0</td>\n",
       "      <td>0.0</td>\n",
       "      <td>0.0</td>\n",
       "    </tr>\n",
       "    <tr>\n",
       "      <th>119745</th>\n",
       "      <td>3.0</td>\n",
       "      <td>0.0</td>\n",
       "      <td>3.0</td>\n",
       "    </tr>\n",
       "    <tr>\n",
       "      <th>119746</th>\n",
       "      <td>1.0</td>\n",
       "      <td>0.0</td>\n",
       "      <td>1.0</td>\n",
       "    </tr>\n",
       "    <tr>\n",
       "      <th>119747</th>\n",
       "      <td>0.0</td>\n",
       "      <td>1.0</td>\n",
       "      <td>1.0</td>\n",
       "    </tr>\n",
       "  </tbody>\n",
       "</table>\n",
       "<p>119748 rows × 3 columns</p>\n",
       "</div>"
      ],
      "text/plain": [
       "        crime_mobile  crime_vehicle  crime_all\n",
       "0                3.0            1.0        4.0\n",
       "1                4.0            0.0        4.0\n",
       "2                0.0            0.0        0.0\n",
       "3                1.0            0.0        1.0\n",
       "4                2.0            0.0        2.0\n",
       "...              ...            ...        ...\n",
       "119743           0.0            0.0        0.0\n",
       "119744           0.0            0.0        0.0\n",
       "119745           3.0            0.0        3.0\n",
       "119746           1.0            0.0        1.0\n",
       "119747           0.0            1.0        1.0\n",
       "\n",
       "[119748 rows x 3 columns]"
      ]
     },
     "execution_count": 7,
     "metadata": {},
     "output_type": "execute_result"
    }
   ],
   "source": [
    "cg.layer_crimes_count"
   ]
  },
  {
   "cell_type": "code",
   "execution_count": 8,
   "id": "a2b0dec9-1a5f-426f-b567-e7b6c4825565",
   "metadata": {},
   "outputs": [
    {
     "data": {
      "text/plain": [
       "True"
      ]
     },
     "execution_count": 8,
     "metadata": {},
     "output_type": "execute_result"
    }
   ],
   "source": [
    "cg.load_layer_points('data/SAD69-96_SHP_pontoonibus.shp',23,'K',True,-45.0,-45.0)"
   ]
  },
  {
   "cell_type": "code",
   "execution_count": 9,
   "id": "79a6232b-bb11-410d-8c0e-5e81698c536c",
   "metadata": {},
   "outputs": [
    {
     "data": {
      "text/plain": [
       "True"
      ]
     },
     "execution_count": 9,
     "metadata": {},
     "output_type": "execute_result"
    }
   ],
   "source": [
    "cg.load_layer_points('data/SAD69-96_SHP_estacaometro_point.shp',23,'K')"
   ]
  },
  {
   "cell_type": "code",
   "execution_count": 10,
   "id": "fcfd8661-1274-47b0-a459-4564be61692c",
   "metadata": {},
   "outputs": [
    {
     "data": {
      "text/plain": [
       "True"
      ]
     },
     "execution_count": 10,
     "metadata": {},
     "output_type": "execute_result"
    }
   ],
   "source": [
    "cg.load_layer_points('data/SAD69-96_SHP_estacaotrem_point.shp',23,'K')"
   ]
  },
  {
   "cell_type": "code",
   "execution_count": 11,
   "id": "fce664e8-dc8c-495c-abda-d3249d984731",
   "metadata": {},
   "outputs": [
    {
     "data": {
      "text/plain": [
       "True"
      ]
     },
     "execution_count": 11,
     "metadata": {},
     "output_type": "execute_result"
    }
   ],
   "source": [
    "cg.load_layer_points('data/sad6996_terminal_onibus.shp',23,'K')"
   ]
  },
  {
   "cell_type": "code",
   "execution_count": 12,
   "id": "25d5540e-7653-4907-acf8-7f0bee87bce7",
   "metadata": {},
   "outputs": [
    {
     "data": {
      "text/plain": [
       "0"
      ]
     },
     "execution_count": 12,
     "metadata": {},
     "output_type": "execute_result"
    }
   ],
   "source": [
    "cg.load_layer_mesh('data/AGSN_2019.shp')"
   ]
  },
  {
   "cell_type": "code",
   "execution_count": 13,
   "id": "462ea6de",
   "metadata": {},
   "outputs": [
    {
     "data": {
      "text/plain": [
       "True"
      ]
     },
     "execution_count": 13,
     "metadata": {},
     "output_type": "execute_result"
    }
   ],
   "source": [
    "cg.load_station_measurements('Barueri','data/Barueri.CSV')"
   ]
  },
  {
   "cell_type": "code",
   "execution_count": 14,
   "id": "e46ce400",
   "metadata": {},
   "outputs": [
    {
     "data": {
      "text/plain": [
       "True"
      ]
     },
     "execution_count": 14,
     "metadata": {},
     "output_type": "execute_result"
    }
   ],
   "source": [
    "cg.load_station_measurements('Interlagos','data/Interlagos.CSV')"
   ]
  },
  {
   "cell_type": "code",
   "execution_count": 15,
   "id": "3a37606a",
   "metadata": {},
   "outputs": [
    {
     "data": {
      "text/plain": [
       "True"
      ]
     },
     "execution_count": 15,
     "metadata": {},
     "output_type": "execute_result"
    }
   ],
   "source": [
    "cg.load_station_measurements('Mirante','data/Mirante.CSV')"
   ]
  },
  {
   "cell_type": "code",
   "execution_count": 16,
   "id": "e0336618",
   "metadata": {},
   "outputs": [
    {
     "data": {
      "text/plain": [
       "True"
      ]
     },
     "execution_count": 16,
     "metadata": {},
     "output_type": "execute_result"
    }
   ],
   "source": [
    "cg.load_measu_temp_agg_funcs('data/Sparse_temp_agg_funcs.CSV')"
   ]
  },
  {
   "cell_type": "code",
   "execution_count": 17,
   "id": "08f7e9d3",
   "metadata": {},
   "outputs": [
    {
     "data": {
      "text/plain": [
       "True"
      ]
     },
     "execution_count": 17,
     "metadata": {},
     "output_type": "execute_result"
    }
   ],
   "source": [
    "cg.load_station_info('data/Stations_info.CSV')"
   ]
  },
  {
   "cell_type": "code",
   "execution_count": 18,
   "id": "a116c558",
   "metadata": {},
   "outputs": [
    {
     "data": {
      "text/plain": [
       "True"
      ]
     },
     "execution_count": 18,
     "metadata": {},
     "output_type": "execute_result"
    }
   ],
   "source": [
    "cg.compute_layer_weather('01-01-2020','31-12-2020')"
   ]
  },
  {
   "cell_type": "code",
   "execution_count": 19,
   "id": "8658d87a-cb15-4138-9dd5-dff41af59cb6",
   "metadata": {},
   "outputs": [],
   "source": [
    "cg.save_preprocessed_CityGraph('data/sp-sibgrapi2022.bin')"
   ]
  },
  {
   "cell_type": "code",
   "execution_count": 20,
   "id": "e4d20c04-e8c3-4967-8b07-4cef6bbfdd82",
   "metadata": {},
   "outputs": [
    {
     "name": "stderr",
     "output_type": "stream",
     "text": [
      "/Users/thalesvieira/Projects/sibgrapi2022/CityGraph.py:1181: FutureWarning: The default dtype for empty Series will be 'object' instead of 'float64' in a future version. Specify a dtype explicitly to silence this warning.\n",
      "  feature_vec = pd.Series([])\n",
      "/Users/thalesvieira/Projects/sibgrapi2022/CityGraph.py:1192: FutureWarning: The series.append method is deprecated and will be removed from pandas in a future version. Use pandas.concat instead.\n",
      "  feature_vec = feature_vec.append(self.layer_crimes_count.loc[vert_ind])\n",
      "/Users/thalesvieira/Projects/sibgrapi2022/CityGraph.py:1206: FutureWarning: The series.append method is deprecated and will be removed from pandas in a future version. Use pandas.concat instead.\n",
      "  feature_vec = feature_vec.append(ibge_list)\n",
      "/Users/thalesvieira/Projects/sibgrapi2022/CityGraph.py:1216: FutureWarning: The series.append method is deprecated and will be removed from pandas in a future version. Use pandas.concat instead.\n",
      "  feature_vec = feature_vec.append(transporte_list)\n",
      "/Users/thalesvieira/Projects/sibgrapi2022/CityGraph.py:1223: FutureWarning: The series.append method is deprecated and will be removed from pandas in a future version. Use pandas.concat instead.\n",
      "  feature_vec = feature_vec.append(favela_list)\n",
      "/Users/thalesvieira/Projects/sibgrapi2022/CityGraph.py:1226: FutureWarning: The series.append method is deprecated and will be removed from pandas in a future version. Use pandas.concat instead.\n",
      "  feature_vec = feature_vec.append(self.measu_estimation.loc[vert_ind,:])\n"
     ]
    },
    {
     "data": {
      "text/plain": [
       "crime_mobile                            3.0\n",
       "crime_vehicle                           1.0\n",
       "crime_all                               4.0\n",
       "Renda_media_por_domicilio       5160.404542\n",
       "Renda_media_responsaveis        3015.097073\n",
       "Responsaveis_sem_renda_taxa        0.093952\n",
       "Alfabetizados_de_7_a_15_anos            1.0\n",
       "menores_de_18_anos_taxa            0.185002\n",
       "18_a_65_anos_taxa                  0.698416\n",
       "maiores_de_65_anos_taxa            0.116582\n",
       "Pontos_de_onibus                        2.0\n",
       "Estacao_de_metro                        0.0\n",
       "Estacao_de_trem                         0.0\n",
       "Terminal_de_onibus                      0.0\n",
       "Favela_proxima                          0.0\n",
       "Precipitacao_Total              1372.100297\n",
       "Temperatura_Maxima                37.557652\n",
       "Temperatura_Minima                 7.558559\n",
       "dtype: object"
      ]
     },
     "execution_count": 20,
     "metadata": {},
     "output_type": "execute_result"
    }
   ],
   "source": [
    "cg.compute_feature_vector(0)"
   ]
  },
  {
   "cell_type": "code",
   "execution_count": null,
   "id": "76e7a152-20ba-4deb-964a-0da60ada48dc",
   "metadata": {},
   "outputs": [],
   "source": [
    "import folium\n",
    "import osmnx as ox\n",
    "import networkx as nx\n",
    "\n",
    "lat = -23.549090314066356\n",
    "long = -46.65458954194309\n",
    "\n",
    "rectangle_center = [lat, long]\n",
    "\n",
    "result=cg.query_point_in_graph_radius_in_city_mesh(lat,long,0.7)"
   ]
  },
  {
   "cell_type": "code",
   "execution_count": null,
   "id": "e1f96828-e846-4484-86d2-8409bc003912",
   "metadata": {},
   "outputs": [],
   "source": [
    "m = folium.Map(location=[lat, long], zoom_start=15, tiles='CartoDB positron')\n",
    "\n",
    "nearest=cg.query_point_in_city_mesh(lat, long, True)\n",
    "print(nearest)\n",
    "folium.CircleMarker(rectangle_center, radius=5, color='blue').add_to(m)\n",
    "folium.CircleMarker(cg.city_vert_list[nearest], radius=8, color='pink').add_to(m)\n",
    "\n",
    "for vert in result:\n",
    "    folium.CircleMarker(cg.city_vert_list[vert], radius=5, color='red').add_to(m)  \n",
    "    \n",
    "    \n",
    "rectangle_side = 0.01\n",
    "\n",
    "for u,v,a in cg.city_mesh_graph.edges(data=True):\n",
    "    vertA = cg.city_vert_list[cg.city_vert_nxind_to_ind_dict[u]]\n",
    "    vertB = cg.city_vert_list[cg.city_vert_nxind_to_ind_dict[v]]  \n",
    "    if ((abs(vertA[0]-rectangle_center[0])<rectangle_side and abs(vertA[1]-rectangle_center[1])<rectangle_side) or\n",
    "        (abs(vertB[0]-rectangle_center[0])<rectangle_side and abs(vertB[1]-rectangle_center[1])<rectangle_side)):\n",
    "            folium.PolyLine([vertA,vertB], color=\"yellow\", weight=2.5, opacity=1).add_to(m)\n",
    "            folium.CircleMarker(vertA, radius=2, color='blue').add_to(m)  \n",
    "            folium.CircleMarker(vertB, radius=2, color='blue').add_to(m)    \n",
    "\n",
    "m      "
   ]
  },
  {
   "cell_type": "code",
   "execution_count": null,
   "id": "a1a04c00-32ab-4af8-bcdf-a3b5a3397ae9",
   "metadata": {},
   "outputs": [],
   "source": []
  }
 ],
 "metadata": {
  "kernelspec": {
   "display_name": "Python 3 (ipykernel)",
   "language": "python",
   "name": "python3"
  },
  "language_info": {
   "codemirror_mode": {
    "name": "ipython",
    "version": 3
   },
   "file_extension": ".py",
   "mimetype": "text/x-python",
   "name": "python",
   "nbconvert_exporter": "python",
   "pygments_lexer": "ipython3",
   "version": "3.9.13"
  }
 },
 "nbformat": 4,
 "nbformat_minor": 5
}
