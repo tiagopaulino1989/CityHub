{
 "cells": [
  {
   "cell_type": "code",
   "execution_count": 1,
   "id": "03142969-64cd-47c4-8ad0-aa2fa5d35c82",
   "metadata": {},
   "outputs": [],
   "source": [
    "import os\n",
    "import CityHub\n",
    "import folium\n",
    "import geopandas as gpd\n",
    "import pandas as pd"
   ]
  },
  {
   "cell_type": "code",
   "execution_count": 2,
   "id": "cd90244e-817c-47d2-bb42-4b6d9bc2d694",
   "metadata": {},
   "outputs": [
    {
     "name": "stdout",
     "output_type": "stream",
     "text": [
      "Loading file...\n",
      "Preprocessing city mesh...\n",
      "Refining mesh...\n"
     ]
    }
   ],
   "source": [
    "cg = CityHub.CityHub('data/sp_network.gpickle',40.0)"
   ]
  },
  {
   "cell_type": "code",
   "execution_count": 3,
   "id": "10877975-db75-4499-a482-db9b5080605e",
   "metadata": {},
   "outputs": [
    {
     "name": "stdout",
     "output_type": "stream",
     "text": [
      "Refining mesh...\n"
     ]
    },
    {
     "data": {
      "text/plain": [
       "0"
      ]
     },
     "execution_count": 3,
     "metadata": {},
     "output_type": "execute_result"
    }
   ],
   "source": [
    "cg.load_PALayer_mesh('data/malha-sp-setores-2010.kml','Name',40.0)"
   ]
  },
  {
   "cell_type": "code",
   "execution_count": 4,
   "id": "fb43fb8e-461c-48ac-abb5-cd4d58273fcc",
   "metadata": {
    "tags": []
   },
   "outputs": [
    {
     "data": {
      "text/plain": [
       "True"
      ]
     },
     "execution_count": 4,
     "metadata": {},
     "output_type": "execute_result"
    }
   ],
   "source": [
    "cg.load_PALayers_csv_data(0,'data/sectorsindices.csv','Cod_setor')"
   ]
  },
  {
   "cell_type": "code",
   "execution_count": 5,
   "id": "bf5bccbc-8c3d-45c4-91a3-52b5240bf34b",
   "metadata": {},
   "outputs": [
    {
     "data": {
      "text/plain": [
       "0"
      ]
     },
     "execution_count": 5,
     "metadata": {},
     "output_type": "execute_result"
    }
   ],
   "source": [
    "cg.load_PBLayer('data/SAD69-96_SHP_pontoonibus.shp',23,'K',True,-45.0,-45.0)"
   ]
  },
  {
   "cell_type": "code",
   "execution_count": 6,
   "id": "a2b0dec9-1a5f-426f-b567-e7b6c4825565",
   "metadata": {},
   "outputs": [
    {
     "data": {
      "text/plain": [
       "1"
      ]
     },
     "execution_count": 6,
     "metadata": {},
     "output_type": "execute_result"
    }
   ],
   "source": [
    "cg.load_PBLayer('data/SAD69-96_SHP_pontoonibus.shp',23,'K',True,-45.0,-45.0)"
   ]
  },
  {
   "cell_type": "code",
   "execution_count": 7,
   "id": "79a6232b-bb11-410d-8c0e-5e81698c536c",
   "metadata": {},
   "outputs": [
    {
     "data": {
      "text/plain": [
       "2"
      ]
     },
     "execution_count": 7,
     "metadata": {},
     "output_type": "execute_result"
    }
   ],
   "source": [
    "cg.load_PBLayer('data/SAD69-96_SHP_estacaometro_point.shp',23,'K')"
   ]
  },
  {
   "cell_type": "code",
   "execution_count": 8,
   "id": "fcfd8661-1274-47b0-a459-4564be61692c",
   "metadata": {},
   "outputs": [
    {
     "data": {
      "text/plain": [
       "3"
      ]
     },
     "execution_count": 8,
     "metadata": {},
     "output_type": "execute_result"
    }
   ],
   "source": [
    "cg.load_PBLayer('data/SAD69-96_SHP_estacaotrem_point.shp',23,'K')"
   ]
  },
  {
   "cell_type": "code",
   "execution_count": 9,
   "id": "fce664e8-dc8c-495c-abda-d3249d984731",
   "metadata": {},
   "outputs": [
    {
     "data": {
      "text/plain": [
       "4"
      ]
     },
     "execution_count": 9,
     "metadata": {},
     "output_type": "execute_result"
    }
   ],
   "source": [
    "cg.load_PBLayer('data/sad6996_terminal_onibus.shp',23,'K')"
   ]
  },
  {
   "cell_type": "code",
   "execution_count": 10,
   "id": "25d5540e-7653-4907-acf8-7f0bee87bce7",
   "metadata": {},
   "outputs": [
    {
     "data": {
      "text/plain": [
       "0"
      ]
     },
     "execution_count": 10,
     "metadata": {},
     "output_type": "execute_result"
    }
   ],
   "source": [
    "cg.load_RDLayer('data/AGSN_2019.shp')"
   ]
  },
  {
   "cell_type": "code",
   "execution_count": 11,
   "id": "b5719d98-efcc-459f-bb15-a055475798a6",
   "metadata": {},
   "outputs": [],
   "source": [
    "cg.save_preprocessed_CityHub('data/sp-sibgrapi2022.bin')"
   ]
  },
  {
   "cell_type": "code",
   "execution_count": null,
   "id": "12d5211b-2893-46d7-aa74-72c4309ef899",
   "metadata": {},
   "outputs": [],
   "source": [
    "cg.load_crimes_layer('data/crimes_ssp.csv','LATITUDE','LONGITUDE')"
   ]
  },
  {
   "cell_type": "code",
   "execution_count": null,
   "id": "1bb638f0",
   "metadata": {},
   "outputs": [],
   "source": [
    "cg.compute_layer_crimes(initial_date = pd.to_datetime('01-01-2020'), final_date = pd.to_datetime('31-12-2020'))"
   ]
  },
  {
   "cell_type": "code",
   "execution_count": null,
   "id": "caa6813f-b7bb-4a65-bcda-46a84ec8b085",
   "metadata": {},
   "outputs": [],
   "source": [
    "cg.layer_crimes_count"
   ]
  },
  {
   "cell_type": "code",
   "execution_count": null,
   "id": "462ea6de",
   "metadata": {},
   "outputs": [],
   "source": [
    "cg.load_station_measurements('Barueri','data/Barueri.CSV')"
   ]
  },
  {
   "cell_type": "code",
   "execution_count": null,
   "id": "e46ce400",
   "metadata": {},
   "outputs": [],
   "source": [
    "cg.load_station_measurements('Interlagos','data/Interlagos.CSV')"
   ]
  },
  {
   "cell_type": "code",
   "execution_count": null,
   "id": "3a37606a",
   "metadata": {},
   "outputs": [],
   "source": [
    "cg.load_station_measurements('Mirante','data/Mirante.CSV')"
   ]
  },
  {
   "cell_type": "code",
   "execution_count": null,
   "id": "e0336618",
   "metadata": {},
   "outputs": [],
   "source": [
    "cg.load_measu_temp_agg_funcs('data/Sparse_temp_agg_funcs.CSV')"
   ]
  },
  {
   "cell_type": "code",
   "execution_count": null,
   "id": "08f7e9d3",
   "metadata": {},
   "outputs": [],
   "source": [
    "cg.load_station_info('data/Stations_info.CSV')"
   ]
  },
  {
   "cell_type": "code",
   "execution_count": null,
   "id": "a116c558",
   "metadata": {},
   "outputs": [],
   "source": [
    "cg.compute_layer_weather('01-01-2020','31-12-2020')"
   ]
  },
  {
   "cell_type": "code",
   "execution_count": null,
   "id": "8658d87a-cb15-4138-9dd5-dff41af59cb6",
   "metadata": {},
   "outputs": [],
   "source": [
    "cg.save_preprocessed_CityGraph('data/sp-sibgrapi2022.bin')"
   ]
  },
  {
   "cell_type": "code",
   "execution_count": null,
   "id": "e4d20c04-e8c3-4967-8b07-4cef6bbfdd82",
   "metadata": {},
   "outputs": [],
   "source": [
    "cg.compute_feature_vector(0)"
   ]
  },
  {
   "cell_type": "code",
   "execution_count": null,
   "id": "76e7a152-20ba-4deb-964a-0da60ada48dc",
   "metadata": {},
   "outputs": [],
   "source": [
    "import folium\n",
    "import osmnx as ox\n",
    "import networkx as nx\n",
    "\n",
    "lat = -23.549090314066356\n",
    "long = -46.65458954194309\n",
    "\n",
    "rectangle_center = [lat, long]\n",
    "\n",
    "result=cg.query_point_in_graph_radius_in_city_mesh(lat,long,0.7)"
   ]
  },
  {
   "cell_type": "code",
   "execution_count": null,
   "id": "e1f96828-e846-4484-86d2-8409bc003912",
   "metadata": {},
   "outputs": [],
   "source": [
    "m = folium.Map(location=[lat, long], zoom_start=15, tiles='CartoDB positron')\n",
    "\n",
    "nearest=cg.query_point_in_city_mesh(lat, long, True)\n",
    "print(nearest)\n",
    "folium.CircleMarker(rectangle_center, radius=5, color='blue').add_to(m)\n",
    "folium.CircleMarker(cg.city_vert_list[nearest], radius=8, color='pink').add_to(m)\n",
    "\n",
    "for vert in result:\n",
    "    folium.CircleMarker(cg.city_vert_list[vert], radius=5, color='red').add_to(m)  \n",
    "    \n",
    "    \n",
    "rectangle_side = 0.01\n",
    "\n",
    "for u,v,a in cg.city_mesh_graph.edges(data=True):\n",
    "    vertA = cg.city_vert_list[cg.city_vert_nxind_to_ind_dict[u]]\n",
    "    vertB = cg.city_vert_list[cg.city_vert_nxind_to_ind_dict[v]]  \n",
    "    if ((abs(vertA[0]-rectangle_center[0])<rectangle_side and abs(vertA[1]-rectangle_center[1])<rectangle_side) or\n",
    "        (abs(vertB[0]-rectangle_center[0])<rectangle_side and abs(vertB[1]-rectangle_center[1])<rectangle_side)):\n",
    "            folium.PolyLine([vertA,vertB], color=\"yellow\", weight=2.5, opacity=1).add_to(m)\n",
    "            folium.CircleMarker(vertA, radius=2, color='blue').add_to(m)  \n",
    "            folium.CircleMarker(vertB, radius=2, color='blue').add_to(m)    \n",
    "\n",
    "m      "
   ]
  },
  {
   "cell_type": "code",
   "execution_count": null,
   "id": "a1a04c00-32ab-4af8-bcdf-a3b5a3397ae9",
   "metadata": {},
   "outputs": [],
   "source": []
  }
 ],
 "metadata": {
  "kernelspec": {
   "display_name": "Python 3 (ipykernel)",
   "language": "python",
   "name": "python3"
  },
  "language_info": {
   "codemirror_mode": {
    "name": "ipython",
    "version": 3
   },
   "file_extension": ".py",
   "mimetype": "text/x-python",
   "name": "python",
   "nbconvert_exporter": "python",
   "pygments_lexer": "ipython3",
   "version": "3.9.13"
  }
 },
 "nbformat": 4,
 "nbformat_minor": 5
}
